{
 "cells": [
  {
   "cell_type": "markdown",
   "metadata": {},
   "source": [
    "# Trabajo Práctico 2 - Matrices de Insumo Producto"
   ]
  },
  {
   "cell_type": "markdown",
   "metadata": {},
   "source": [
    "## Integrantes-\n",
    "Matilda Bartoli 175/23 \\\n",
    "Florencia Allami 484/23 \\\n",
    "Luca Emilio Petrarca 1261/23"
   ]
  },
  {
   "cell_type": "markdown",
   "metadata": {},
   "source": [
    "## Expresando $(I−A)^{-1}$ como una suma infinita"
   ]
  },
  {
   "cell_type": "markdown",
   "metadata": {},
   "source": [
    "### Consigna 1 - "
   ]
  },
  {
   "cell_type": "markdown",
   "metadata": {},
   "source": []
  },
  {
   "cell_type": "markdown",
   "metadata": {},
   "source": [
    "### Consigna 2 - "
   ]
  },
  {
   "cell_type": "markdown",
   "metadata": {},
   "source": [
    "### Consigna 3 - "
   ]
  },
  {
   "cell_type": "markdown",
   "metadata": {},
   "source": [
    "### Consigna 4 - "
   ]
  },
  {
   "cell_type": "markdown",
   "metadata": {},
   "source": [
    "### Consigna 5 - "
   ]
  },
  {
   "cell_type": "markdown",
   "metadata": {},
   "source": [
    "## Análisis en Componentes Principales"
   ]
  },
  {
   "cell_type": "markdown",
   "metadata": {},
   "source": [
    "### Consigna 6 - "
   ]
  },
  {
   "cell_type": "markdown",
   "metadata": {},
   "source": [
    "#### a) Parte 1"
   ]
  },
  {
   "cell_type": "markdown",
   "metadata": {},
   "source": [
    "Sea $E_{n}{z} = (I_{n} - \\frac{1}{n} ee^{t})z$ \n",
    "\n",
    "\n",
    "Distribuyendo el vector $z$,  \n",
    "\n",
    "\n",
    "$E_{n}{z} = z - \\frac{1}{n} ee^{t}z$ (siendo $e^{t}z$  el producto escalar entre el  $e$ y $z$)\n",
    "\n",
    "Luego, \n",
    "\n",
    "\n",
    "$E_{n}{z} = z - \\frac{1}{n} e \\sum_{i=1}^{n} e_i z_i $\n",
    "\n",
    "Como $e$ es un vector de todos unos, \n",
    "\n",
    "\n",
    "$E_{n}{z} = z - \\frac{1}{n} e \\sum_{i=1}^{n}z_i $\n",
    "\n",
    "Se puede ver que $\\frac{1}{n} e \\sum_{i=1}^{n}z_i$ es un vector de $R^{n}$ donde cada componente es  el promedio de las componenentes del vector $z$. Llamando a este promedio como $z^{'}$ ,\n",
    "\n",
    "\n",
    "$E_{n}{z} = (z_{1} - z^{'}, z_{2} - z^{'}, ....., z_{n}-z^{'})  $\n",
    "\n",
    "\n",
    "Realizando el promedio de las componentes de $E_{n}{z}$, \n",
    "\n",
    "\n",
    "$\\frac{1}{n}  \\sum_{i=1}^{n}(z_i - z^{'}) $ =\n",
    "\n",
    "\n",
    "$\\frac{1}{n}  (\\sum_{i=1}^{n}z_i - \\sum_{i=1}^{n}z^{'}) $ = \n",
    "\n",
    "$\\frac{1}{n}  ((\\sum_{i=1}^{n}z_i)- nz^{'})$\n",
    "\n",
    "Dado que  $z^{'} = \\frac{1}{n} \\sum_{i=1}^{n}z_i$ , \n",
    "\n",
    "\n",
    "$nz^{'} = \\sum_{i=1}^{n}z_i$\n",
    "\n",
    "Luego, el promedio de las componentes de $E_{n}{z}$ es igual a \n",
    "\n",
    "$\\frac{1}{n}  (\\sum_{i=1}^{n}z_i- \\sum_{i=1}^{n}z_i) = 0$\n",
    "\n",
    "\n",
    "\n",
    "\n",
    "\n",
    "\n",
    "\n",
    "\n",
    "\n",
    "\n"
   ]
  },
  {
   "cell_type": "markdown",
   "metadata": {},
   "source": [
    "#### Parte 2\n",
    "\n",
    "Sea $E_{n}A = (I_{n} - \\frac{1}{n} ee^{t})A = A - \\frac{1}{n} ee^{t}A$\n",
    "\n",
    "Se observa que el vector que resulta de hacer $e^{t}A$ es igual a \n",
    "\n",
    "\n",
    "$e^{t}A = (\\sum_{i=1}^{n}A_{i1}, \\sum_{i=1}^{n}A_{i2}, ....., \\sum_{i=1}^{n}A_{in})$, siendo cada componente del vector la suma de cada columna de A \n",
    "\n",
    "\n",
    "Al multiplicar dicho vector por $\\frac{1}{n}e$ resulta una matriz simétrica, que llamamos $A^{'}$ de $R ^{nXn}$, donde cada componente de cada columna tiene el promedio de la respectiva columna de A (los componentes de cada columna son iguales entre si ), es decir, \n",
    "\n",
    "$(ee^{t}A)_{j} = \\frac{1}{n} \\sum_{i=1}^{n}A_{ij} $\n",
    "\n",
    "\n",
    "Luego, \n",
    "\n",
    "$E_{n}A = A - A^{'}$ \n",
    "\n",
    "\n",
    "$(E_{n}A)_{ij} = A_{ij} - A^{'}_{j}$\n",
    "\n",
    "\n",
    "Mirando el promedio de cada columna de $E_{n}A$,\n",
    "\n",
    "Promedio $(E_{n}A)_{j}$ =\n",
    "\n",
    "\n",
    "$\\frac{1}{n} \\sum_{i=1}^{n}(A_{ij} - A^{'}_{j})$ =\n",
    "\n",
    "\n",
    "$\\frac{1}{n} (\\sum_{i=1}^{n}A_{ij} - \\sum_{i=1}^{n}A^{'}_{j})$  = \n",
    "\n",
    "\n",
    "$\\frac{1}{n} (\\sum_{i=1}^{n}A_{ij} - nA^{'}_{j}$ = \n",
    "\n",
    "\n",
    "Dado que $A^{'}_{j}= \\frac{1}{n} \\sum_{i=1}^{n}A_{ij}$, \n",
    "\n",
    "\n",
    "$nA^{'}_{j} = \\sum_{i=1}^{n}A_{ij}$\n",
    "\n",
    "Luego, \n",
    "\n",
    "Promedio $(E_{n}A)_{j}$ = $\\frac{1}{n} (\\sum_{i=1}^{n}A_{ij} - \\sum_{i=1}^{n}A_{ij}) = 0 $\n",
    "\n",
    "Concluimos que cuando se le aplica a la matriz $E_{n}$ una matriz como A, devuelve una matriz donde a cada elemento de A se le resta el promedio de la columna correspondiente al elemento. Asimismo, se observa que el promedio de cada columna de la matriz resultante es igual a cero. \n"
   ]
  },
  {
   "cell_type": "markdown",
   "metadata": {},
   "source": [
    "#### b) \n",
    "\n",
    "\n",
    "Primero calculamos los autovalores de la matriz $E_{n}$ \n",
    "\n",
    "\n",
    "$det(E_{n} - \\lambda I_{n})$ = 0"
   ]
  },
  {
   "cell_type": "markdown",
   "metadata": {},
   "source": [
    "### Consigna 7 - "
   ]
  },
  {
   "cell_type": "markdown",
   "metadata": {},
   "source": [
    "### Consigna 8 - "
   ]
  },
  {
   "cell_type": "markdown",
   "metadata": {},
   "source": [
    "## Matriz $H$"
   ]
  },
  {
   "cell_type": "markdown",
   "metadata": {},
   "source": [
    "### Consigna 9 - "
   ]
  },
  {
   "cell_type": "markdown",
   "metadata": {},
   "source": [
    "### Consigna 10 - "
   ]
  },
  {
   "cell_type": "markdown",
   "metadata": {},
   "source": [
    "### Consigna 11 - "
   ]
  },
  {
   "cell_type": "markdown",
   "metadata": {},
   "source": []
  }
 ],
 "metadata": {
  "language_info": {
   "name": "python"
  }
 },
 "nbformat": 4,
 "nbformat_minor": 2
}
