{
 "cells": [
  {
   "cell_type": "markdown",
   "metadata": {},
   "source": [
    "# Trabajo Práctico 2 - Matrices de Insumo Producto"
   ]
  },
  {
   "cell_type": "markdown",
   "metadata": {},
   "source": [
    "## Integrantes-\n",
    "Matilda Bartoli 175/23 \\\n",
    "Florencia Allami 484/23 \\\n",
    "Luca Emilio Petrarca 1261/23"
   ]
  },
  {
   "cell_type": "markdown",
   "metadata": {},
   "source": [
    "## Expresando $(I−A)^{-1}$ como una suma infinita"
   ]
  },
  {
   "cell_type": "markdown",
   "metadata": {},
   "source": [
    "### Consigna 1 - "
   ]
  },
  {
   "cell_type": "markdown",
   "metadata": {},
   "source": []
  },
  {
   "cell_type": "markdown",
   "metadata": {},
   "source": [
    "### Consigna 2 - "
   ]
  },
  {
   "cell_type": "markdown",
   "metadata": {},
   "source": [
    "### Consigna 3 - "
   ]
  },
  {
   "cell_type": "markdown",
   "metadata": {},
   "source": [
    "### Consigna 4 - "
   ]
  },
  {
   "cell_type": "markdown",
   "metadata": {},
   "source": [
    "### Consigna 5 - "
   ]
  },
  {
   "cell_type": "markdown",
   "metadata": {},
   "source": [
    "## Análisis en Componentes Principales"
   ]
  },
  {
   "cell_type": "markdown",
   "metadata": {},
   "source": [
    "### Consigna 6 - "
   ]
  },
  {
   "cell_type": "markdown",
   "metadata": {},
   "source": [
    "a)\n",
    "\n",
    "Sea $En_{z} = (I_{n} - \\frac{1}{n} ee^{t})z$ \n",
    "\n",
    "\n",
    "Distribuyendo el vector $z$,  \n",
    "\n",
    "\n",
    "$En_{z} = z - \\frac{1}{n} ee^{t}z$ (siendo $e^{t}z$  el producto escalar entre el  $e$ y $z$)\n",
    "\n",
    "Luego, \n",
    "\n",
    "\n",
    "$En_{z} = z - \\frac{1}{n} e \\sum_{i=1}^{n} e_i z_i $\n",
    "\n",
    "Como $e$ es un vector de todos unos, \n",
    "\n",
    "\n",
    "$En_{z} = z - \\frac{1}{n} e \\sum_{i=1}^{n}z_i $\n",
    "\n",
    "Se puede ver que $\\frac{1}{n} e \\sum_{i=1}^{n}z_i$ es un vector de $R^{n}$ donde cada componente es  el promedio de las componenentes del vector $z$. Llamando a este promedio como $z^{'}$ ,\n",
    "\n",
    "\n",
    "$En_{z} = (z_{1} - z^{'}, z_{2} - z^{'}, ....., z_{n}-z^{'})  $\n",
    "\n",
    "\n",
    "Realizando el promedio de las componentes de $En_{z}$, \n",
    "\n",
    "\n",
    "$\\frac{1}{n}  \\sum_{i=1}^{n}(z_i - z^{'}) $ =\n",
    "\n",
    "\n",
    "$\\frac{1}{n}  (\\sum_{i=1}^{n}z_i - \\sum_{i=1}^{n}z^{'}) $ = \n",
    "\n",
    "$\\frac{1}{n}  ((\\sum_{i=1}^{n}z_i)- nz^{'})$\n",
    "\n",
    "Dado que  $z^{'} = \\frac{1}{n} \\sum_{i=1}^{n}z_i$ , \n",
    "\n",
    "\n",
    "$nz^{'} = \\sum_{i=1}^{n}z_i$\n",
    "\n",
    "Luego, el promedio de las componentes de $En_{z}$ es igual a \n",
    "\n",
    "$\\frac{1}{n}  (\\sum_{i=1}^{n}z_i- \\sum_{i=1}^{n}z_i) = 0$\n"
   ]
  },
  {
   "cell_type": "markdown",
   "metadata": {},
   "source": []
  },
  {
   "cell_type": "markdown",
   "metadata": {},
   "source": []
  },
  {
   "cell_type": "markdown",
   "metadata": {},
   "source": []
  },
  {
   "cell_type": "markdown",
   "metadata": {},
   "source": [
    "### Consigna 7 - "
   ]
  },
  {
   "cell_type": "markdown",
   "metadata": {},
   "source": [
    "### Consigna 8 - "
   ]
  },
  {
   "cell_type": "markdown",
   "metadata": {},
   "source": [
    "## Matriz $H$"
   ]
  },
  {
   "cell_type": "markdown",
   "metadata": {},
   "source": [
    "### Consigna 9 - "
   ]
  },
  {
   "cell_type": "markdown",
   "metadata": {},
   "source": [
    "### Consigna 10 - "
   ]
  },
  {
   "cell_type": "markdown",
   "metadata": {},
   "source": [
    "### Consigna 11 - "
   ]
  },
  {
   "cell_type": "markdown",
   "metadata": {},
   "source": []
  }
 ],
 "metadata": {
  "language_info": {
   "name": "python"
  }
 },
 "nbformat": 4,
 "nbformat_minor": 2
}
